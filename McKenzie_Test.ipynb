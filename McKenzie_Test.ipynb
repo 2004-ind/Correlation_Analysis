{
 "cells": [
  {
   "cell_type": "code",
   "execution_count": 33,
   "id": "00cfc638-7174-4781-ad69-9ef75282b214",
   "metadata": {},
   "outputs": [],
   "source": [
    "import datetime\n",
    "import time\n",
    "import urllib.request\n",
    "import pandas as pd\n",
    "import numpy as np\n",
    "import hvplot.pandas\n",
    "import matplotlib.pyplot as plt"
   ]
  },
  {
   "cell_type": "code",
   "execution_count": 34,
   "id": "1651e8db-6a5a-4af9-905a-0df2f993d16f",
   "metadata": {},
   "outputs": [],
   "source": [
    "def get_df_from_yahoo_finance (symbol): \n",
    "\n",
    "    end_date = datetime.datetime.now()\n",
    "    end_date = int(round(end_date.timestamp())) * 1000  #<-- Convert datetime to milliseconds \n",
    "    end_date_str = str(end_date)\n",
    "    end_date_str = end_date_str[:10]  #<-- This removes all but the last 10 millisecond values for the time which is format yahoo wants\n",
    "\n",
    "    start_date_str = '345427200'\n",
    "  \n",
    "\n",
    "    ticker_dataframe = {}\n",
    "    \n",
    "\n",
    "    # Build Yahoo finance URL for the data request.\n",
    "    \n",
    "    yahoo_finance_url_with_symbol = ('https://query1.finance.yahoo.com/v7/finance/download/' + str(symbol)\n",
    "                                     + '?period1=' + str(start_date_str) + '&period2=' + str(end_date_str)\n",
    "                                     + '&interval=1mo&events=history&includeAdjustedClose=true')\n",
    "\n",
    "    url2 = urllib.request.urlopen(yahoo_finance_url_with_symbol) #request data (comes as CSV)\n",
    "    \n",
    "    ticker_dataframe = pd.read_csv(url2)  #convert CSV in memory from the Yahoo request to dataframe\n",
    "    ticker_dataframe.insert(1, \"Ticker\", symbol)\n",
    "\n",
    "    return (ticker_dataframe)"
   ]
  },
  {
   "cell_type": "code",
   "execution_count": 35,
   "id": "4cb47981-8183-45bd-8b69-7335f6ef35ed",
   "metadata": {},
   "outputs": [],
   "source": [
    "list_of_tickers_for_yahoo_data_dump = ['BTC-USD','VTI','SPY','XLF','XLU','XLV','VAW','VNQ','XLP','XLY','FXN','XLI','IYC','QQQ','BND','DJP','GLD','SHV']   # <-- Add tickers here\n",
    "\n",
    "tickers_and_data_df = pd.DataFrame({})\n",
    "\n",
    "for ticker in list_of_tickers_for_yahoo_data_dump:\n",
    "    \n",
    "    single_ticker_df = get_df_from_yahoo_finance(ticker)\n",
    "    tickers_and_data_df = pd.concat([tickers_and_data_df, single_ticker_df])\n"
   ]
  },
  {
   "cell_type": "code",
   "execution_count": 36,
   "id": "a3aaa442-d96b-4d54-8504-5ce0c9c9d4e0",
   "metadata": {},
   "outputs": [],
   "source": [
    "#import fed rates on long term bonds (10 year)\n",
    "long_term_fed_rates_df = pd.read_csv(                    \n",
    "    'https://www.econdb.com/api/series/Y10YDUS/?format=csv',                    \n",
    "    index_col='Date', parse_dates=['Date'])\n",
    "\n",
    "#import consumer price index (inflation)\n",
    "cpi_df = pd.read_csv(                    \n",
    "    'https://www.econdb.com/api/series/CPIUS/?format=csv',                    \n",
    "    index_col='Date', parse_dates=['Date'])\n",
    "\n",
    "#import consumer confidence index\n",
    "consumer_confidence_df = pd.read_csv(                    \n",
    "    'https://www.econdb.com/api/series/CONFUS/?format=csv',                    \n",
    "    index_col='Date', parse_dates=['Date'])\n",
    "\n",
    "#import M2 supply (all money circulating and in bank accounts)\n",
    "money_supply_df = pd.read_csv(                    \n",
    "'https://www.econdb.com/api/series/M3US/?format=csv',                    \n",
    "index_col='Date', parse_dates=['Date'])"
   ]
  },
  {
   "cell_type": "code",
   "execution_count": 37,
   "id": "6c3d356c-17d0-497e-8f9b-13f4c5499d7e",
   "metadata": {},
   "outputs": [],
   "source": [
    "#reset index\n",
    "cpi_df= cpi_df.reset_index()\n",
    "consumer_confidence_df =consumer_confidence_df.reset_index()\n",
    "long_term_fed_rates_df= long_term_fed_rates_df.reset_index()\n",
    "money_supply_df= money_supply_df.reset_index()"
   ]
  },
  {
   "cell_type": "code",
   "execution_count": 38,
   "id": "38b86db5-78d1-4596-bb79-234de85a00f8",
   "metadata": {},
   "outputs": [],
   "source": [
    "#convert date to datetime\n",
    "cpi_df['Date'] = pd.to_datetime(cpi_df['Date'])\n",
    "consumer_confidence_df['Date'] = pd.to_datetime(consumer_confidence_df['Date'])\n",
    "long_term_fed_rates_df['Date'] = pd.to_datetime(long_term_fed_rates_df['Date'])\n",
    "money_supply_df['Date'] = pd.to_datetime(money_supply_df['Date'])"
   ]
  },
  {
   "cell_type": "code",
   "execution_count": 39,
   "id": "84792e36-3c4b-496a-93b9-906fadf572ba",
   "metadata": {},
   "outputs": [],
   "source": [
    "#drop time from datetime format\n",
    "cpi_df['Date'] = cpi_df['Date'].dt.date\n",
    "consumer_confidence_df['Date'] = consumer_confidence_df['Date'].dt.date\n",
    "long_term_fed_rates_df['Date'] = long_term_fed_rates_df['Date'].dt.date\n",
    "money_supply_df['Date'] = money_supply_df['Date'].dt.date"
   ]
  },
  {
   "cell_type": "code",
   "execution_count": 40,
   "id": "3e9bd297-7b82-473f-aef5-73b74e017eaf",
   "metadata": {},
   "outputs": [],
   "source": [
    "#add columns to imitate yahoo df\n",
    "cpi_df['Ticker'] = 'CPI'\n",
    "cpi_df['Open'] = cpi_df['CPIUS']\n",
    "cpi_df['High'] =cpi_df['CPIUS']\n",
    "cpi_df['Low'] = cpi_df['CPIUS']\n",
    "cpi_df['Close'] =cpi_df['CPIUS']\n",
    "cpi_df['Adj Close'] = cpi_df['CPIUS']\n",
    "cpi_df['Volume'] =cpi_df['CPIUS']\n",
    "\n",
    "consumer_confidence_df['Ticker'] = 'CC'\n",
    "consumer_confidence_df['Open'] = consumer_confidence_df['CONFUS']\n",
    "consumer_confidence_df['High'] =consumer_confidence_df['CONFUS']\n",
    "consumer_confidence_df['Low'] = consumer_confidence_df['CONFUS']\n",
    "consumer_confidence_df['Close'] =consumer_confidence_df['CONFUS']\n",
    "consumer_confidence_df['Adj Close'] = consumer_confidence_df['CONFUS']\n",
    "consumer_confidence_df['Volume'] =consumer_confidence_df['CONFUS']\n",
    "\n",
    "long_term_fed_rates_df['Ticker'] = 'Fed_Rates'\n",
    "long_term_fed_rates_df['Open'] = long_term_fed_rates_df['Y10YDUS']\n",
    "long_term_fed_rates_df['High'] =long_term_fed_rates_df['Y10YDUS']\n",
    "long_term_fed_rates_df['Low'] = long_term_fed_rates_df['Y10YDUS']\n",
    "long_term_fed_rates_df['Close'] =long_term_fed_rates_df['Y10YDUS']\n",
    "long_term_fed_rates_df['Adj Close'] = long_term_fed_rates_df['Y10YDUS']\n",
    "long_term_fed_rates_df['Volume'] =long_term_fed_rates_df['Y10YDUS']\n",
    "\n",
    "money_supply_df['Ticker'] = 'M3'\n",
    "money_supply_df['Open'] = money_supply_df['M3US']\n",
    "money_supply_df['High'] =money_supply_df['M3US']\n",
    "money_supply_df['Low'] = money_supply_df['M3US']\n",
    "money_supply_df['Close'] =money_supply_df['M3US']\n",
    "money_supply_df['Adj Close'] = money_supply_df['M3US']\n",
    "money_supply_df['Volume'] =money_supply_df['M3US']\n"
   ]
  },
  {
   "cell_type": "code",
   "execution_count": 41,
   "id": "cf249bd3-e75c-42a3-99b8-e6e6ca5c411f",
   "metadata": {},
   "outputs": [],
   "source": [
    "#concatenate and convert all date column to datetime (again becuase it needs to be reminded)\n",
    "test_df = pd.concat([tickers_and_data_df, cpi_df,consumer_confidence_df,long_term_fed_rates_df,money_supply_df], axis=0)\n",
    "test_df.drop(\"CPIUS\", axis=1, inplace=True)\n",
    "test_df['Date']=pd.to_datetime(test_df['Date'])"
   ]
  },
  {
   "cell_type": "code",
   "execution_count": 42,
   "id": "a9ee6fc1-52a8-4b49-919a-689aabec0c88",
   "metadata": {},
   "outputs": [],
   "source": [
    "#create pivot table\n",
    "pivot = pd.pivot_table(\n",
    "    data=test_df,\n",
    "    index='Date',\n",
    "    columns ='Ticker',\n",
    "    \n",
    ")\n",
    "\n",
    "pivot =pivot.dropna()"
   ]
  },
  {
   "cell_type": "code",
   "execution_count": 43,
   "id": "b34bb2e2-4cf6-4776-ab6d-f0c08eb270de",
   "metadata": {},
   "outputs": [],
   "source": [
    "# drop all columns except close\n",
    "pivot = pivot['Close']\n"
   ]
  },
  {
   "cell_type": "markdown",
   "id": "f950a0ea-425d-4ce2-b28e-8ea06c111b3b",
   "metadata": {},
   "source": [
    "## Essential variables\n"
   ]
  },
  {
   "cell_type": "code",
   "execution_count": 44,
   "id": "a4f10340-2d87-4366-a044-7b8ef21ddbdc",
   "metadata": {},
   "outputs": [],
   "source": [
    "# theres are the essentail variables\n",
    "\n",
    "pct_change = pivot.pct_change().dropna()\n",
    "\n",
    "corr_df = pct_change.corr()\n",
    "\n",
    "list_of_tickers = ['BTC-USD','SPY','QQQ']"
   ]
  },
  {
   "cell_type": "markdown",
   "id": "724e507b-707f-4629-9d7f-b1eb2b1cb966",
   "metadata": {},
   "source": [
    "# Start Mckenzie Test\n"
   ]
  },
  {
   "cell_type": "code",
   "execution_count": 50,
   "id": "faf637ab-78f2-4d71-ad13-c1d95161c282",
   "metadata": {},
   "outputs": [],
   "source": [
    "#Calculate sharpe ratios\n",
    "\n",
    "sharpe_dict = {}\n",
    "\n",
    "def sharpe_ratio_calculator(list):\n",
    "    std = pct_change.std()\n",
    "    for ticker in list:\n",
    "        annualized_std = std[ticker]*np.sqrt(12)\n",
    "        average_annual_return = pct_change[ticker].mean()*12\n",
    "        sharpe_ratio = average_annual_return/annualized_std\n",
    "        print(f\"{ticker} sharpe ratio = {sharpe_ratio}\")\n",
    "        sharpe_dict.update({ticker:sharpe_ratio})\n",
    "    return sharpe_dict"
   ]
  },
  {
   "cell_type": "code",
   "execution_count": 52,
   "id": "cce0943a-6608-4f90-bdfd-08ed209789d8",
   "metadata": {},
   "outputs": [
    {
     "name": "stdout",
     "output_type": "stream",
     "text": [
      "BTC-USD sharpe ratio = 1.1328361597762027\n",
      "VTI sharpe ratio = 0.6713796537130778\n",
      "SPY sharpe ratio = 0.7158454722662906\n",
      "XLF sharpe ratio = 0.5082097357186008\n",
      "XLU sharpe ratio = 0.5196199071264465\n",
      "XLV sharpe ratio = 0.6863684875633299\n",
      "VAW sharpe ratio = 0.4760481547447656\n",
      "VNQ sharpe ratio = 0.26520670973467725\n",
      "XLP sharpe ratio = 0.5560973470956141\n",
      "XLY sharpe ratio = 0.6881772685412784\n",
      "FXN sharpe ratio = 0.10916771927292558\n",
      "XLI sharpe ratio = 0.48498743272700273\n",
      "IYC sharpe ratio = 0.6197435879609918\n",
      "QQQ sharpe ratio = 0.9167464046768655\n",
      "BND sharpe ratio = -0.21958608394766177\n",
      "DJP sharpe ratio = 0.200134768916182\n",
      "GLD sharpe ratio = 0.4601769104440686\n",
      "SHV sharpe ratio = -0.014928532135956215\n"
     ]
    },
    {
     "data": {
      "text/plain": [
       "{'BTC-USD': 1.1328361597762027,\n",
       " 'VTI': 0.6713796537130778,\n",
       " 'SPY': 0.7158454722662906,\n",
       " 'XLF': 0.5082097357186008,\n",
       " 'XLU': 0.5196199071264465,\n",
       " 'XLV': 0.6863684875633299,\n",
       " 'VAW': 0.4760481547447656,\n",
       " 'VNQ': 0.26520670973467725,\n",
       " 'XLP': 0.5560973470956141,\n",
       " 'XLY': 0.6881772685412784,\n",
       " 'FXN': 0.10916771927292558,\n",
       " 'XLI': 0.48498743272700273,\n",
       " 'IYC': 0.6197435879609918,\n",
       " 'QQQ': 0.9167464046768655,\n",
       " 'BND': -0.21958608394766177,\n",
       " 'DJP': 0.200134768916182,\n",
       " 'GLD': 0.4601769104440686,\n",
       " 'SHV': -0.014928532135956215}"
      ]
     },
     "execution_count": 52,
     "metadata": {},
     "output_type": "execute_result"
    }
   ],
   "source": [
    "sharpe_dict=    sharpe_ratio_calculator(list_of_tickers_for_yahoo_data_dump)\n",
    "sharpe_dict"
   ]
  },
  {
   "cell_type": "code",
   "execution_count": 53,
   "id": "8156143a-13ca-4aa2-bd65-77dcc14ece9b",
   "metadata": {},
   "outputs": [],
   "source": [
    "# mckenzie test updated\n",
    "def mckenzie_test(list_of_tickers, new_potential_holding, sharpe_dict, corr_df):\n",
    "    sharpe_sum = 0\n",
    "    corr_sum = 0\n",
    "    for ticker in list_of_tickers:\n",
    "        if ticker in sharpe_dict:\n",
    "            sharpe_sum = sharpe_dict[ticker] + sharpe_sum\n",
    "    for ticker in list_of_tickers:\n",
    "        corr_sum += corr_df.loc[ticker,new_potential_holding]\n",
    "    corr_average =corr_sum/len(list_of_tickers)\n",
    "    sharpe_ratio_average_of_portfolio = sharpe_sum/len(list_of_tickers)\n",
    "    if sharpe_dict[new_potential_holding] > (sharpe_ratio_average_of_portfolio * corr_average):\n",
    "        print (f\"{new_potential_holding} passes the McKenzie test and should be evaluated futher for your portfolio.\")\n",
    "        #print(f\"The sharpe ratio of your current holding {current_holding} is {sharpe_dict[current_holding]} and {sharpe_dict[new_potential_holding]} for your new potential holding\")\n",
    "        #print(f\"The expected correlation is {corr_df.loc[current_holding,new_potential_holding]}\")\n",
    "        #print(f\"So therefore {corr_df.loc[current_holding,new_potential_holding]} * {sharpe_dict[current_holding]} is < {sharpe_dict[new_potential_holding]} so you should this passes the test\")\n",
    "        \n",
    "    else:\n",
    "        print(f\"{new_potential_holding} does not pass the McKenzie test\")"
   ]
  },
  {
   "cell_type": "code",
   "execution_count": 54,
   "id": "3c6dafa6-9c2d-48f4-8ed7-08bfdd596d58",
   "metadata": {},
   "outputs": [
    {
     "name": "stdout",
     "output_type": "stream",
     "text": [
      "BND does not pass the McKenzie test\n"
     ]
    }
   ],
   "source": [
    "mckenzie_test(list_of_tickers, 'BND', sharpe_dict, corr_df)"
   ]
  },
  {
   "cell_type": "markdown",
   "id": "12443adc-1e07-4f3b-917b-e1ebdb75f99f",
   "metadata": {},
   "source": [
    "# If you want to test all the tickers against your portfolio"
   ]
  },
  {
   "cell_type": "code",
   "execution_count": 55,
   "id": "19b5db6a-6527-4b1a-ab5d-5b2a100b6d72",
   "metadata": {},
   "outputs": [],
   "source": [
    "def test_all_tickers(list):\n",
    "    for ticker in list:\n",
    "        mckenzie_test(list_of_tickers,ticker,sharpe_dict, corr_df)"
   ]
  },
  {
   "cell_type": "code",
   "execution_count": 56,
   "id": "f46652bb-1493-4ad5-8174-02553dfd193f",
   "metadata": {},
   "outputs": [
    {
     "name": "stdout",
     "output_type": "stream",
     "text": [
      "BTC-USD passes the McKenzie test and should be evaluated futher for your portfolio.\n",
      "VTI does not pass the McKenzie test\n",
      "SPY passes the McKenzie test and should be evaluated futher for your portfolio.\n",
      "XLF does not pass the McKenzie test\n",
      "XLU passes the McKenzie test and should be evaluated futher for your portfolio.\n",
      "XLV passes the McKenzie test and should be evaluated futher for your portfolio.\n",
      "VAW does not pass the McKenzie test\n",
      "VNQ does not pass the McKenzie test\n",
      "XLP passes the McKenzie test and should be evaluated futher for your portfolio.\n",
      "XLY passes the McKenzie test and should be evaluated futher for your portfolio.\n",
      "FXN does not pass the McKenzie test\n",
      "XLI does not pass the McKenzie test\n",
      "IYC does not pass the McKenzie test\n",
      "QQQ passes the McKenzie test and should be evaluated futher for your portfolio.\n",
      "BND does not pass the McKenzie test\n",
      "DJP does not pass the McKenzie test\n",
      "GLD passes the McKenzie test and should be evaluated futher for your portfolio.\n",
      "SHV passes the McKenzie test and should be evaluated futher for your portfolio.\n"
     ]
    }
   ],
   "source": [
    "test_all_tickers(list_of_tickers_for_yahoo_data_dump)"
   ]
  },
  {
   "cell_type": "code",
   "execution_count": null,
   "id": "12991cda-1b40-4a3f-b039-ab8f3451cff7",
   "metadata": {},
   "outputs": [],
   "source": []
  }
 ],
 "metadata": {
  "kernelspec": {
   "display_name": "Python (dev)",
   "language": "python",
   "name": "dev"
  },
  "language_info": {
   "codemirror_mode": {
    "name": "ipython",
    "version": 3
   },
   "file_extension": ".py",
   "mimetype": "text/x-python",
   "name": "python",
   "nbconvert_exporter": "python",
   "pygments_lexer": "ipython3",
   "version": "3.7.13"
  }
 },
 "nbformat": 4,
 "nbformat_minor": 5
}
