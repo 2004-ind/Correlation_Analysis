{
 "cells": [
  {
   "cell_type": "code",
   "execution_count": null,
   "id": "dd83be41-4786-4e9f-9580-78d16126dade",
   "metadata": {},
   "outputs": [],
   "source": [
    "this is a test\n"
   ]
  }
 ],
 "metadata": {
  "kernelspec": {
   "display_name": "Python (dev)",
   "language": "python",
   "name": "dev"
  },
  "language_info": {
   "codemirror_mode": {
    "name": "ipython",
    "version": 3
   },
   "file_extension": ".py",
   "mimetype": "text/x-python",
   "name": "python",
   "nbconvert_exporter": "python",
   "pygments_lexer": "ipython3",
   "version": "3.7.11"
  }
 },
 "nbformat": 4,
 "nbformat_minor": 5
}
