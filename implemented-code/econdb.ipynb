{
 "cells": [
  {
   "cell_type": "markdown",
   "id": "46944ef1-d2eb-4bd2-8bbe-afa9c63b2fa3",
   "metadata": {},
   "source": [
    "# These are all the imports from EconDB"
   ]
  },
  {
   "cell_type": "code",
   "execution_count": 4,
   "id": "34dc492b-7fdc-43b3-b98e-f24d75cea049",
   "metadata": {},
   "outputs": [],
   "source": [
    "import pandas as pd\n",
    "\n",
    "#import house price index (for single family homes across US)\n",
    "house_price_df = pd.read_csv(                    \n",
    "    'https://www.econdb.com/api/series/HOUUS/?format=csv',                    \n",
    "    index_col='Date', parse_dates=['Date'])\n",
    "\n"
   ]
  },
  {
   "cell_type": "code",
   "execution_count": 6,
   "id": "bb5350ae-3d7c-4dc4-bbdb-6bd662b1ea2c",
   "metadata": {},
   "outputs": [],
   "source": [
    "#import fed rates on long term bonds (10 year)\n",
    "long_term_fed_rates_df = pd.read_csv(                    \n",
    "    'https://www.econdb.com/api/series/Y10YDUS/?format=csv',                    \n",
    "    index_col='Date', parse_dates=['Date'])"
   ]
  },
  {
   "cell_type": "code",
   "execution_count": 9,
   "id": "b065fe7f-e3cc-4d5f-abb7-a023fe6baa27",
   "metadata": {},
   "outputs": [],
   "source": [
    "#import consumer price index (inflation)\n",
    "cpi_df = pd.read_csv(                    \n",
    "    'https://www.econdb.com/api/series/CPIUS/?format=csv',                    \n",
    "    index_col='Date', parse_dates=['Date'])"
   ]
  },
  {
   "cell_type": "code",
   "execution_count": 11,
   "id": "251b96ff-b280-4534-a119-c6cce0014157",
   "metadata": {},
   "outputs": [],
   "source": [
    "#import consumer confidence index\n",
    "consumer_confidence_df = pd.read_csv(                    \n",
    "    'https://www.econdb.com/api/series/CONFUS/?format=csv',                    \n",
    "    index_col='Date', parse_dates=['Date'])"
   ]
  },
  {
   "cell_type": "code",
   "execution_count": null,
   "id": "524e61c8-3612-497c-b8dc-be0027438b74",
   "metadata": {},
   "outputs": [],
   "source": [
    "#import M2 supply (all money circulating and in bank accounts)\n",
    "money_supply_df = pd.read_csv(                    \n",
    "'https://www.econdb.com/api/series/M3US/?format=csv',                    \n",
    "index_col='Date', parse_dates=['Date'])"
   ]
  },
  {
   "cell_type": "code",
   "execution_count": null,
   "id": "01d4b691-c70f-41b6-82f2-a23aee7319e1",
   "metadata": {},
   "outputs": [],
   "source": []
  }
 ],
 "metadata": {
  "kernelspec": {
   "display_name": "Python (dev)",
   "language": "python",
   "name": "dev"
  },
  "language_info": {
   "codemirror_mode": {
    "name": "ipython",
    "version": 3
   },
   "file_extension": ".py",
   "mimetype": "text/x-python",
   "name": "python",
   "nbconvert_exporter": "python",
   "pygments_lexer": "ipython3",
   "version": "3.7.11"
  }
 },
 "nbformat": 4,
 "nbformat_minor": 5
}
