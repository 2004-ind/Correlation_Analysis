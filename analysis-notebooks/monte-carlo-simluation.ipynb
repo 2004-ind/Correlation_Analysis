{
 "cells": [
  {
   "cell_type": "code",
   "execution_count": 1,
   "id": "2227cd06-e7f2-4cc4-a797-a54a2b29d266",
   "metadata": {},
   "outputs": [],
   "source": [
    "import datetime\n",
    "import time\n",
    "import urllib.request\n",
    "import pandas as pd\n",
    "from MCForecastTools import MCSimulation"
   ]
  },
  {
   "cell_type": "code",
   "execution_count": 2,
   "id": "e870da2a-4992-444a-a81c-ec8dc6e3bc79",
   "metadata": {
    "tags": []
   },
   "outputs": [],
   "source": [
    "def get_df_from_yahoo_finance (symbol): \n",
    "\n",
    "    end_date = datetime.datetime.now()\n",
    "    end_date = int(round(end_date.timestamp())) * 1000  #<-- Convert datetime to milliseconds \n",
    "    end_date_str = str(end_date)\n",
    "    end_date_str = end_date_str[:10]  #<-- This removes all but the last 10 millisecond values for the time which is format yahoo wants\n",
    "\n",
    "    start_date_str = '345427200'\n",
    "  \n",
    "\n",
    "    ticker_dataframe = {}\n",
    "    \n",
    "\n",
    "    # Build Yahoo finance URL for the data request.\n",
    "    \n",
    "    yahoo_finance_url_with_symbol = ('https://query1.finance.yahoo.com/v7/finance/download/' + str(symbol)\n",
    "                                     + '?period1=' + str(start_date_str) + '&period2=' + str(end_date_str)\n",
    "                                     + '&interval=1d&events=history&includeAdjustedClose=true')\n",
    "\n",
    "    url2 = urllib.request.urlopen(yahoo_finance_url_with_symbol) #request data (comes as CSV)\n",
    "    \n",
    "    ticker_dataframe = pd.read_csv(url2)  #convert CSV in memory from the Yahoo request to dataframe\n",
    "    ticker_dataframe.insert(1, \"Ticker\", symbol)\n",
    "\n",
    "    return (ticker_dataframe)\n"
   ]
  },
  {
   "cell_type": "code",
   "execution_count": 3,
   "id": "f452f424-080d-451d-ae26-91f97953c638",
   "metadata": {},
   "outputs": [],
   "source": [
    "list_of_tickers_for_yahoo_data_dump = ['SPY', 'GLD', 'XLE', 'XLV', 'MVI-USD', 'NFTI-USD']   # <-- Add tickers here\n",
    "\n",
    "tickers_and_data_df = pd.DataFrame({})\n",
    "\n",
    "for ticker in list_of_tickers_for_yahoo_data_dump:\n",
    "    \n",
    "    single_ticker_df = get_df_from_yahoo_finance(ticker)\n",
    "    tickers_and_data_df = pd.concat([tickers_and_data_df, single_ticker_df])\n"
   ]
  },
  {
   "cell_type": "code",
   "execution_count": 4,
   "id": "5653a85d-7536-4c40-aa21-4f0503388ccd",
   "metadata": {},
   "outputs": [],
   "source": [
    "tickers_and_data_df.columns=[each_column .lower() for each_column in tickers_and_data_df.columns]"
   ]
  },
  {
   "cell_type": "code",
   "execution_count": 5,
   "id": "5129eab6-b1d0-4b08-b54b-f61b4353e442",
   "metadata": {},
   "outputs": [
    {
     "name": "stdout",
     "output_type": "stream",
     "text": [
      "           date    ticker        open        high         low       close  \\\n",
      "0    1993-01-29       SPY   43.968750   43.968750   43.750000   43.937500   \n",
      "1    1993-02-01       SPY   43.968750   44.250000   43.968750   44.250000   \n",
      "2    1993-02-02       SPY   44.218750   44.375000   44.125000   44.343750   \n",
      "3    1993-02-03       SPY   44.406250   44.843750   44.375000   44.812500   \n",
      "4    1993-02-04       SPY   44.968750   45.093750   44.468750   45.000000   \n",
      "..          ...       ...         ...         ...         ...         ...   \n",
      "518  2022-08-05  NFTI-USD  738.161987  788.641541  737.596436  788.641541   \n",
      "519  2022-08-06  NFTI-USD  788.643127  794.480591  772.313416  778.098694   \n",
      "520  2022-08-07  NFTI-USD  778.074158  790.022705  768.141907  777.318542   \n",
      "521  2022-08-08  NFTI-USD         NaN         NaN         NaN         NaN   \n",
      "522  2022-08-09  NFTI-USD  791.006470  793.645081  787.705200  788.164001   \n",
      "\n",
      "      adj close     volume  \n",
      "0     25.438091  1003200.0  \n",
      "1     25.619017   480500.0  \n",
      "2     25.673298   201300.0  \n",
      "3     25.944677   529400.0  \n",
      "4     26.053244   531500.0  \n",
      "..          ...        ...  \n",
      "518  788.641541      201.0  \n",
      "519  778.098694       59.0  \n",
      "520  777.318542       97.0  \n",
      "521         NaN        NaN  \n",
      "522  788.164001     2672.0  \n",
      "\n",
      "[24792 rows x 8 columns]\n"
     ]
    }
   ],
   "source": [
    "print (tickers_and_data_df)"
   ]
  },
  {
   "cell_type": "code",
   "execution_count": 6,
   "id": "58002987-9475-4414-b31d-42d202cfe287",
   "metadata": {},
   "outputs": [
    {
     "name": "stdout",
     "output_type": "stream",
     "text": [
      "           date   ticker        open        high        low       close  \\\n",
      "0    2021-04-13  MVI-USD   98.627357   99.953712  97.227501   99.612236   \n",
      "1    2021-04-14  MVI-USD   99.903984  100.232513  90.536865   95.412590   \n",
      "2    2021-04-15  MVI-USD   95.423653  105.099709  93.283913  105.099709   \n",
      "3    2021-04-16  MVI-USD  105.017746  105.038216  95.061119   97.298744   \n",
      "4    2021-04-17  MVI-USD   97.341225  103.932014  93.138268   99.901405   \n",
      "..          ...      ...         ...         ...        ...         ...   \n",
      "479  2022-08-05  MVI-USD   44.107529   46.285950  43.798042   45.257107   \n",
      "480  2022-08-06  MVI-USD   45.257202   47.003944  44.993122   46.255154   \n",
      "481  2022-08-07  MVI-USD   46.253696   46.554981  44.326000   45.485641   \n",
      "482  2022-08-08  MVI-USD         NaN         NaN        NaN         NaN   \n",
      "483  2022-08-09  MVI-USD   45.775257   45.988258  45.627007   45.659714   \n",
      "\n",
      "      adj close     volume  \n",
      "0     99.612236  1029720.0  \n",
      "1     95.412590   573986.0  \n",
      "2    105.099709  1757154.0  \n",
      "3     97.298744   346543.0  \n",
      "4     99.901405   157922.0  \n",
      "..          ...        ...  \n",
      "479   45.257107    10969.0  \n",
      "480   46.255154    44130.0  \n",
      "481   45.485641    54191.0  \n",
      "482         NaN        NaN  \n",
      "483   45.659714    11110.0  \n",
      "\n",
      "[484 rows x 8 columns]\n"
     ]
    }
   ],
   "source": [
    "mvi_df = tickers_and_data_df.loc[tickers_and_data_df['ticker'] == 'MVI-USD'] \n",
    "print(mvi_df)"
   ]
  },
  {
   "cell_type": "code",
   "execution_count": 7,
   "id": "27ee1727-0c2b-4e55-bfbc-9070b48f12d9",
   "metadata": {},
   "outputs": [
    {
     "name": "stdout",
     "output_type": "stream",
     "text": [
      "       NFTI_USD                                                            \\\n",
      "           date    ticker        open        high         low       close   \n",
      "0    2021-03-05  NFTI-USD  353.882202  411.688995  351.510986  353.560211   \n",
      "1    2021-03-06  NFTI-USD  353.563629  783.433350  304.075226  385.862671   \n",
      "2    2021-03-07  NFTI-USD  385.861115  424.322083  335.222687  354.860626   \n",
      "3    2021-03-08  NFTI-USD  354.844635  507.940033  349.266815  495.157410   \n",
      "4    2021-03-09  NFTI-USD  495.191803  533.454468  421.637085  527.504883   \n",
      "..          ...       ...         ...         ...         ...         ...   \n",
      "518  2022-08-05  NFTI-USD  738.161987  788.641541  737.596436  788.641541   \n",
      "519  2022-08-06  NFTI-USD  788.643127  794.480591  772.313416  778.098694   \n",
      "520  2022-08-07  NFTI-USD  778.074158  790.022705  768.141907  777.318542   \n",
      "521  2022-08-08  NFTI-USD         NaN         NaN         NaN         NaN   \n",
      "522  2022-08-09  NFTI-USD  791.006470  793.645081  787.705200  788.164001   \n",
      "\n",
      "                           \n",
      "      adj close    volume  \n",
      "0    353.560211   52225.0  \n",
      "1    385.862671  830522.0  \n",
      "2    354.860626   68658.0  \n",
      "3    495.157410  250975.0  \n",
      "4    527.504883  169623.0  \n",
      "..          ...       ...  \n",
      "518  788.641541     201.0  \n",
      "519  778.098694      59.0  \n",
      "520  777.318542      97.0  \n",
      "521         NaN       NaN  \n",
      "522  788.164001    2672.0  \n",
      "\n",
      "[523 rows x 8 columns]\n"
     ]
    }
   ],
   "source": [
    "nfti_df = tickers_and_data_df.loc[tickers_and_data_df['ticker'] == 'NFTI-USD'] \n",
    "\n",
    "prices_df = pd.concat([nfti_df], axis=1, keys=[\"NFTI_USD\"])#.lower(\"NFTI_USD\")\n",
    "\n",
    "#this is code I'm adding \n",
    "print(prices_df)"
   ]
  },
  {
   "cell_type": "code",
   "execution_count": 8,
   "id": "28762b50-09e4-470c-8d83-3f31b417d442",
   "metadata": {},
   "outputs": [
    {
     "data": {
      "text/html": [
       "<div>\n",
       "<style scoped>\n",
       "    .dataframe tbody tr th:only-of-type {\n",
       "        vertical-align: middle;\n",
       "    }\n",
       "\n",
       "    .dataframe tbody tr th {\n",
       "        vertical-align: top;\n",
       "    }\n",
       "\n",
       "    .dataframe thead tr th {\n",
       "        text-align: left;\n",
       "    }\n",
       "</style>\n",
       "<table border=\"1\" class=\"dataframe\">\n",
       "  <thead>\n",
       "    <tr>\n",
       "      <th></th>\n",
       "      <th colspan=\"8\" halign=\"left\">NFTI_USD</th>\n",
       "    </tr>\n",
       "    <tr>\n",
       "      <th></th>\n",
       "      <th>date</th>\n",
       "      <th>ticker</th>\n",
       "      <th>open</th>\n",
       "      <th>high</th>\n",
       "      <th>low</th>\n",
       "      <th>close</th>\n",
       "      <th>adj close</th>\n",
       "      <th>volume</th>\n",
       "    </tr>\n",
       "  </thead>\n",
       "  <tbody>\n",
       "    <tr>\n",
       "      <th>0</th>\n",
       "      <td>2021-03-05</td>\n",
       "      <td>NFTI-USD</td>\n",
       "      <td>353.882202</td>\n",
       "      <td>411.688995</td>\n",
       "      <td>351.510986</td>\n",
       "      <td>353.560211</td>\n",
       "      <td>353.560211</td>\n",
       "      <td>52225.0</td>\n",
       "    </tr>\n",
       "    <tr>\n",
       "      <th>1</th>\n",
       "      <td>2021-03-06</td>\n",
       "      <td>NFTI-USD</td>\n",
       "      <td>353.563629</td>\n",
       "      <td>783.433350</td>\n",
       "      <td>304.075226</td>\n",
       "      <td>385.862671</td>\n",
       "      <td>385.862671</td>\n",
       "      <td>830522.0</td>\n",
       "    </tr>\n",
       "    <tr>\n",
       "      <th>2</th>\n",
       "      <td>2021-03-07</td>\n",
       "      <td>NFTI-USD</td>\n",
       "      <td>385.861115</td>\n",
       "      <td>424.322083</td>\n",
       "      <td>335.222687</td>\n",
       "      <td>354.860626</td>\n",
       "      <td>354.860626</td>\n",
       "      <td>68658.0</td>\n",
       "    </tr>\n",
       "    <tr>\n",
       "      <th>3</th>\n",
       "      <td>2021-03-08</td>\n",
       "      <td>NFTI-USD</td>\n",
       "      <td>354.844635</td>\n",
       "      <td>507.940033</td>\n",
       "      <td>349.266815</td>\n",
       "      <td>495.157410</td>\n",
       "      <td>495.157410</td>\n",
       "      <td>250975.0</td>\n",
       "    </tr>\n",
       "    <tr>\n",
       "      <th>4</th>\n",
       "      <td>2021-03-09</td>\n",
       "      <td>NFTI-USD</td>\n",
       "      <td>495.191803</td>\n",
       "      <td>533.454468</td>\n",
       "      <td>421.637085</td>\n",
       "      <td>527.504883</td>\n",
       "      <td>527.504883</td>\n",
       "      <td>169623.0</td>\n",
       "    </tr>\n",
       "    <tr>\n",
       "      <th>...</th>\n",
       "      <td>...</td>\n",
       "      <td>...</td>\n",
       "      <td>...</td>\n",
       "      <td>...</td>\n",
       "      <td>...</td>\n",
       "      <td>...</td>\n",
       "      <td>...</td>\n",
       "      <td>...</td>\n",
       "    </tr>\n",
       "    <tr>\n",
       "      <th>518</th>\n",
       "      <td>2022-08-05</td>\n",
       "      <td>NFTI-USD</td>\n",
       "      <td>738.161987</td>\n",
       "      <td>788.641541</td>\n",
       "      <td>737.596436</td>\n",
       "      <td>788.641541</td>\n",
       "      <td>788.641541</td>\n",
       "      <td>201.0</td>\n",
       "    </tr>\n",
       "    <tr>\n",
       "      <th>519</th>\n",
       "      <td>2022-08-06</td>\n",
       "      <td>NFTI-USD</td>\n",
       "      <td>788.643127</td>\n",
       "      <td>794.480591</td>\n",
       "      <td>772.313416</td>\n",
       "      <td>778.098694</td>\n",
       "      <td>778.098694</td>\n",
       "      <td>59.0</td>\n",
       "    </tr>\n",
       "    <tr>\n",
       "      <th>520</th>\n",
       "      <td>2022-08-07</td>\n",
       "      <td>NFTI-USD</td>\n",
       "      <td>778.074158</td>\n",
       "      <td>790.022705</td>\n",
       "      <td>768.141907</td>\n",
       "      <td>777.318542</td>\n",
       "      <td>777.318542</td>\n",
       "      <td>97.0</td>\n",
       "    </tr>\n",
       "    <tr>\n",
       "      <th>521</th>\n",
       "      <td>2022-08-08</td>\n",
       "      <td>NFTI-USD</td>\n",
       "      <td>NaN</td>\n",
       "      <td>NaN</td>\n",
       "      <td>NaN</td>\n",
       "      <td>NaN</td>\n",
       "      <td>NaN</td>\n",
       "      <td>NaN</td>\n",
       "    </tr>\n",
       "    <tr>\n",
       "      <th>522</th>\n",
       "      <td>2022-08-09</td>\n",
       "      <td>NFTI-USD</td>\n",
       "      <td>791.006470</td>\n",
       "      <td>793.645081</td>\n",
       "      <td>787.705200</td>\n",
       "      <td>788.164001</td>\n",
       "      <td>788.164001</td>\n",
       "      <td>2672.0</td>\n",
       "    </tr>\n",
       "  </tbody>\n",
       "</table>\n",
       "<p>523 rows × 8 columns</p>\n",
       "</div>"
      ],
      "text/plain": [
       "       NFTI_USD                                                            \\\n",
       "           date    ticker        open        high         low       close   \n",
       "0    2021-03-05  NFTI-USD  353.882202  411.688995  351.510986  353.560211   \n",
       "1    2021-03-06  NFTI-USD  353.563629  783.433350  304.075226  385.862671   \n",
       "2    2021-03-07  NFTI-USD  385.861115  424.322083  335.222687  354.860626   \n",
       "3    2021-03-08  NFTI-USD  354.844635  507.940033  349.266815  495.157410   \n",
       "4    2021-03-09  NFTI-USD  495.191803  533.454468  421.637085  527.504883   \n",
       "..          ...       ...         ...         ...         ...         ...   \n",
       "518  2022-08-05  NFTI-USD  738.161987  788.641541  737.596436  788.641541   \n",
       "519  2022-08-06  NFTI-USD  788.643127  794.480591  772.313416  778.098694   \n",
       "520  2022-08-07  NFTI-USD  778.074158  790.022705  768.141907  777.318542   \n",
       "521  2022-08-08  NFTI-USD         NaN         NaN         NaN         NaN   \n",
       "522  2022-08-09  NFTI-USD  791.006470  793.645081  787.705200  788.164001   \n",
       "\n",
       "                           \n",
       "      adj close    volume  \n",
       "0    353.560211   52225.0  \n",
       "1    385.862671  830522.0  \n",
       "2    354.860626   68658.0  \n",
       "3    495.157410  250975.0  \n",
       "4    527.504883  169623.0  \n",
       "..          ...       ...  \n",
       "518  788.641541     201.0  \n",
       "519  778.098694      59.0  \n",
       "520  777.318542      97.0  \n",
       "521         NaN       NaN  \n",
       "522  788.164001    2672.0  \n",
       "\n",
       "[523 rows x 8 columns]"
      ]
     },
     "execution_count": 8,
     "metadata": {},
     "output_type": "execute_result"
    }
   ],
   "source": [
    "prices_df"
   ]
  },
  {
   "cell_type": "code",
   "execution_count": 11,
   "id": "4a1c62f4-9068-4610-b654-302fb71faf6e",
   "metadata": {},
   "outputs": [],
   "source": [
    "MC_fiveyear = MCSimulation(\n",
    "    portfolio_data = prices_df,\n",
    "    weights = [.60,.40],\n",
    "    num_simulation = 500,\n",
    "    num_trading_days = 252*5\n",
    ")"
   ]
  },
  {
   "cell_type": "code",
   "execution_count": 13,
   "id": "30ae5e02-adc3-4cfb-82b0-c76a08768867",
   "metadata": {},
   "outputs": [
    {
     "data": {
      "text/plain": [
       "<MCForecastTools.MCSimulation at 0x7fb73a46d990>"
      ]
     },
     "metadata": {},
     "output_type": "display_data"
    }
   ],
   "source": [
    "display(MC_fiveyear)"
   ]
  },
  {
   "cell_type": "code",
   "execution_count": 12,
   "id": "a547c0c5-a3b8-40c2-9217-62d9255ba249",
   "metadata": {},
   "outputs": [
    {
     "ename": "IndexError",
     "evalue": "Too many levels: Index has only 1 level, not 2",
     "output_type": "error",
     "traceback": [
      "\u001b[0;31m---------------------------------------------------------------------------\u001b[0m",
      "\u001b[0;31mIndexError\u001b[0m                                Traceback (most recent call last)",
      "\u001b[0;32m/var/folders/sm/gqjfhlz13ng722_ysxm2s42w0000gn/T/ipykernel_42387/2771165060.py\u001b[0m in \u001b[0;36m<module>\u001b[0;34m\u001b[0m\n\u001b[1;32m      3\u001b[0m     \u001b[0mweights\u001b[0m \u001b[0;34m=\u001b[0m \u001b[0;34m[\u001b[0m\u001b[0;36m.60\u001b[0m\u001b[0;34m,\u001b[0m\u001b[0;36m.40\u001b[0m\u001b[0;34m]\u001b[0m\u001b[0;34m,\u001b[0m\u001b[0;34m\u001b[0m\u001b[0;34m\u001b[0m\u001b[0m\n\u001b[1;32m      4\u001b[0m     \u001b[0mnum_simulation\u001b[0m \u001b[0;34m=\u001b[0m \u001b[0;36m500\u001b[0m\u001b[0;34m,\u001b[0m\u001b[0;34m\u001b[0m\u001b[0;34m\u001b[0m\u001b[0m\n\u001b[0;32m----> 5\u001b[0;31m     \u001b[0mnum_trading_days\u001b[0m \u001b[0;34m=\u001b[0m \u001b[0;36m252\u001b[0m\u001b[0;34m*\u001b[0m\u001b[0;36m5\u001b[0m\u001b[0;34m\u001b[0m\u001b[0;34m\u001b[0m\u001b[0m\n\u001b[0m\u001b[1;32m      6\u001b[0m )\n",
      "\u001b[0;32m~/Desktop/testing123/MCForecastTools.py\u001b[0m in \u001b[0;36m__init__\u001b[0;34m(self, portfolio_data, weights, num_simulation, num_trading_days)\u001b[0m\n\u001b[1;32m     59\u001b[0m \u001b[0;34m\u001b[0m\u001b[0m\n\u001b[1;32m     60\u001b[0m         \u001b[0;31m# Calculate daily return if not within dataframe\u001b[0m\u001b[0;34m\u001b[0m\u001b[0;34m\u001b[0m\u001b[0;34m\u001b[0m\u001b[0m\n\u001b[0;32m---> 61\u001b[0;31m         \u001b[0;32mif\u001b[0m \u001b[0;32mnot\u001b[0m \u001b[0;34m\"daily_return\"\u001b[0m \u001b[0;32min\u001b[0m \u001b[0mportfolio_data\u001b[0m\u001b[0;34m.\u001b[0m\u001b[0mcolumns\u001b[0m\u001b[0;34m.\u001b[0m\u001b[0mget_level_values\u001b[0m\u001b[0;34m(\u001b[0m\u001b[0;36m1\u001b[0m\u001b[0;34m)\u001b[0m\u001b[0;34m.\u001b[0m\u001b[0munique\u001b[0m\u001b[0;34m(\u001b[0m\u001b[0;34m)\u001b[0m\u001b[0;34m:\u001b[0m\u001b[0;34m\u001b[0m\u001b[0;34m\u001b[0m\u001b[0m\n\u001b[0m\u001b[1;32m     62\u001b[0m             \u001b[0mclose_df\u001b[0m \u001b[0;34m=\u001b[0m \u001b[0mportfolio_data\u001b[0m\u001b[0;34m.\u001b[0m\u001b[0mxs\u001b[0m\u001b[0;34m(\u001b[0m\u001b[0;34m'close'\u001b[0m\u001b[0;34m,\u001b[0m\u001b[0mlevel\u001b[0m\u001b[0;34m=\u001b[0m\u001b[0;36m1\u001b[0m\u001b[0;34m,\u001b[0m\u001b[0maxis\u001b[0m\u001b[0;34m=\u001b[0m\u001b[0;36m1\u001b[0m\u001b[0;34m)\u001b[0m\u001b[0;34m.\u001b[0m\u001b[0mpct_change\u001b[0m\u001b[0;34m(\u001b[0m\u001b[0;34m)\u001b[0m\u001b[0;34m\u001b[0m\u001b[0;34m\u001b[0m\u001b[0m\n\u001b[1;32m     63\u001b[0m             \u001b[0mtickers\u001b[0m \u001b[0;34m=\u001b[0m \u001b[0mportfolio_data\u001b[0m\u001b[0;34m.\u001b[0m\u001b[0mcolumns\u001b[0m\u001b[0;34m.\u001b[0m\u001b[0mget_level_values\u001b[0m\u001b[0;34m(\u001b[0m\u001b[0;36m0\u001b[0m\u001b[0;34m)\u001b[0m\u001b[0;34m.\u001b[0m\u001b[0munique\u001b[0m\u001b[0;34m(\u001b[0m\u001b[0;34m)\u001b[0m\u001b[0;34m\u001b[0m\u001b[0;34m\u001b[0m\u001b[0m\n",
      "\u001b[0;32m~/opt/anaconda3/envs/dev/lib/python3.7/site-packages/pandas/core/indexes/base.py\u001b[0m in \u001b[0;36m_get_level_values\u001b[0;34m(self, level)\u001b[0m\n\u001b[1;32m   1805\u001b[0m         \u001b[0mIndex\u001b[0m\u001b[0;34m(\u001b[0m\u001b[0;34m[\u001b[0m\u001b[0;34m'a'\u001b[0m\u001b[0;34m,\u001b[0m \u001b[0;34m'b'\u001b[0m\u001b[0;34m,\u001b[0m \u001b[0;34m'c'\u001b[0m\u001b[0;34m]\u001b[0m\u001b[0;34m,\u001b[0m \u001b[0mdtype\u001b[0m\u001b[0;34m=\u001b[0m\u001b[0;34m'object'\u001b[0m\u001b[0;34m)\u001b[0m\u001b[0;34m\u001b[0m\u001b[0;34m\u001b[0m\u001b[0m\n\u001b[1;32m   1806\u001b[0m         \"\"\"\n\u001b[0;32m-> 1807\u001b[0;31m         \u001b[0mself\u001b[0m\u001b[0;34m.\u001b[0m\u001b[0m_validate_index_level\u001b[0m\u001b[0;34m(\u001b[0m\u001b[0mlevel\u001b[0m\u001b[0;34m)\u001b[0m\u001b[0;34m\u001b[0m\u001b[0;34m\u001b[0m\u001b[0m\n\u001b[0m\u001b[1;32m   1808\u001b[0m         \u001b[0;32mreturn\u001b[0m \u001b[0mself\u001b[0m\u001b[0;34m\u001b[0m\u001b[0;34m\u001b[0m\u001b[0m\n\u001b[1;32m   1809\u001b[0m \u001b[0;34m\u001b[0m\u001b[0m\n",
      "\u001b[0;32m~/opt/anaconda3/envs/dev/lib/python3.7/site-packages/pandas/core/indexes/base.py\u001b[0m in \u001b[0;36m_validate_index_level\u001b[0;34m(self, level)\u001b[0m\n\u001b[1;32m   1725\u001b[0m             \u001b[0;32melif\u001b[0m \u001b[0mlevel\u001b[0m \u001b[0;34m>\u001b[0m \u001b[0;36m0\u001b[0m\u001b[0;34m:\u001b[0m\u001b[0;34m\u001b[0m\u001b[0;34m\u001b[0m\u001b[0m\n\u001b[1;32m   1726\u001b[0m                 raise IndexError(\n\u001b[0;32m-> 1727\u001b[0;31m                     \u001b[0;34mf\"Too many levels: Index has only 1 level, not {level + 1}\"\u001b[0m\u001b[0;34m\u001b[0m\u001b[0;34m\u001b[0m\u001b[0m\n\u001b[0m\u001b[1;32m   1728\u001b[0m                 )\n\u001b[1;32m   1729\u001b[0m         \u001b[0;32melif\u001b[0m \u001b[0mlevel\u001b[0m \u001b[0;34m!=\u001b[0m \u001b[0mself\u001b[0m\u001b[0;34m.\u001b[0m\u001b[0mname\u001b[0m\u001b[0;34m:\u001b[0m\u001b[0;34m\u001b[0m\u001b[0;34m\u001b[0m\u001b[0m\n",
      "\u001b[0;31mIndexError\u001b[0m: Too many levels: Index has only 1 level, not 2"
     ]
    }
   ],
   "source": [
    "MC_fiveyear = MCSimulation(\n",
    "    portfolio_data = mvi_df,\n",
    "    weights = [.60,.40],\n",
    "    num_simulation = 500,\n",
    "    num_trading_days = 252*5\n",
    ")"
   ]
  },
  {
   "cell_type": "code",
   "execution_count": null,
   "id": "631d8e3d-4267-4406-8c0c-864ad834191f",
   "metadata": {},
   "outputs": [],
   "source": [
    "mvi_df.describe()\n",
    "\n",
    "mvi_df"
   ]
  },
  {
   "cell_type": "code",
   "execution_count": null,
   "id": "e6088be0-6e24-45ad-855f-7197bde7f8ab",
   "metadata": {},
   "outputs": [],
   "source": [
    "nfti_df.describe()"
   ]
  },
  {
   "cell_type": "code",
   "execution_count": null,
   "id": "b55068a5-6e1a-47f6-a142-41977ced4828",
   "metadata": {},
   "outputs": [],
   "source": []
  },
  {
   "cell_type": "code",
   "execution_count": null,
   "id": "430110f6-65e6-4ed8-a055-418d67387358",
   "metadata": {},
   "outputs": [],
   "source": []
  }
 ],
 "metadata": {
  "kernelspec": {
   "display_name": "dev",
   "language": "python",
   "name": "dev"
  },
  "language_info": {
   "codemirror_mode": {
    "name": "ipython",
    "version": 3
   },
   "file_extension": ".py",
   "mimetype": "text/x-python",
   "name": "python",
   "nbconvert_exporter": "python",
   "pygments_lexer": "ipython3",
   "version": "3.7.13"
  }
 },
 "nbformat": 4,
 "nbformat_minor": 5
}
