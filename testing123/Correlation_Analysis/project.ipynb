{
 "cells": [
  {
   "cell_type": "markdown",
   "id": "cb772d27",
   "metadata": {},
   "source": [
    "#### This code gets all the monthly data from yahoo finance for a list of tickers.  We chose a monthly timeframe because a lot of the data we want to compare it is also in a monthly format."
   ]
  },
  {
   "cell_type": "code",
   "execution_count": 83,
   "id": "b4631fef",
   "metadata": {},
   "outputs": [],
   "source": [
    "    import datetime\n",
    "    import time\n",
    "    import urllib.request\n",
    "    import pandas as pd"
   ]
  },
  {
   "cell_type": "markdown",
   "id": "795e5e85",
   "metadata": {},
   "source": [
    "#### The following function retrieves all historical data in yahoo finance back to 1/1/1980 for a particular ticker.  It returns a dataframe for one ticker.  If data doesn't go back as far as 1980 for the ticker, data will be returned as far back as possible.  "
   ]
  },
  {
   "cell_type": "code",
   "execution_count": 84,
   "id": "1990a279",
   "metadata": {},
   "outputs": [],
   "source": [
    "def get_df_from_yahoo_finance (symbol): \n",
    "\n",
    "    end_date = datetime.datetime.now()\n",
    "    end_date = int(round(end_date.timestamp())) * 1000  #<-- Convert datetime to milliseconds \n",
    "    end_date_str = str(end_date)\n",
    "    end_date_str = end_date_str[:10]  #<-- This removes all but the last 10 millisecond values for the time which is format yahoo wants\n",
    "\n",
    "    start_date_str = '345427200'\n",
    "  \n",
    "\n",
    "    ticker_dataframe = {}\n",
    "    \n",
    "\n",
    "    # Build Yahoo finance URL for the data request.\n",
    "    \n",
    "    yahoo_finance_url_with_symbol = ('https://query1.finance.yahoo.com/v7/finance/download/' + str(symbol)\n",
    "                                     + '?period1=' + str(start_date_str) + '&period2=' + str(end_date_str)\n",
    "                                     + '&interval=1mo&events=history&includeAdjustedClose=true')\n",
    "\n",
    "    url2 = urllib.request.urlopen(yahoo_finance_url_with_symbol) #request data (comes as CSV)\n",
    "    \n",
    "    ticker_dataframe = pd.read_csv(url2)  #convert CSV in memory from the Yahoo request to dataframe\n",
    "    ticker_dataframe.insert(1, \"Ticker\", symbol)\n",
    "\n",
    "    return (ticker_dataframe)\n"
   ]
  },
  {
   "cell_type": "markdown",
   "id": "a104cc3d",
   "metadata": {},
   "source": [
    "#### This next section iterates through the list of tickers and appends them all to one dataframe as rows.  Add additonal tickers to the list_of_tickers_for_yahoo_data_dump list object.  "
   ]
  },
  {
   "cell_type": "code",
   "execution_count": 85,
   "id": "af35a69c",
   "metadata": {},
   "outputs": [],
   "source": [
    "\n",
    "list_of_tickers_for_yahoo_data_dump = ['SPY', 'GLD', 'XLE', 'XLV']   # <-- Add tickers here\n",
    "\n",
    "tickers_and_data_df = pd.DataFrame({})\n",
    "\n",
    "for ticker in list_of_tickers_for_yahoo_data_dump:\n",
    "    \n",
    "    single_ticker_df = get_df_from_yahoo_finance(ticker)\n",
    "    tickers_and_data_df = pd.concat([tickers_and_data_df, single_ticker_df])\n"
   ]
  },
  {
   "cell_type": "markdown",
   "id": "f911c4a2",
   "metadata": {},
   "source": [
    "#### Print the new dataframe --> tickers_and_data_df."
   ]
  },
  {
   "cell_type": "code",
   "execution_count": 86,
   "id": "355bcf9e",
   "metadata": {},
   "outputs": [
    {
     "name": "stdout",
     "output_type": "stream",
     "text": [
      "           Date Ticker        Open        High         Low       Close  \\\n",
      "0    1993-02-01    SPY   43.968750   45.125000   42.812500   44.406250   \n",
      "1    1993-03-01    SPY   44.562500   45.843750   44.218750   45.187500   \n",
      "2    1993-04-01    SPY   45.250000   45.250000   43.281250   44.031250   \n",
      "3    1993-05-01    SPY   44.093750   45.656250   43.843750   45.218750   \n",
      "4    1993-06-01    SPY   45.375000   45.812500   44.218750   45.062500   \n",
      "..          ...    ...         ...         ...         ...         ...   \n",
      "279  2022-04-01    XLV  137.369995  143.419998  130.089996  130.289993   \n",
      "280  2022-05-01    XLV  130.179993  134.050003  125.279999  132.229996   \n",
      "281  2022-06-01    XLV  132.710007  132.729996  118.750000  128.240005   \n",
      "282  2022-07-01    XLV  128.289993  133.809998  125.230003  132.399994   \n",
      "283  2022-08-01    XLV  131.660004  132.380005  131.119995  131.419998   \n",
      "\n",
      "      Adj Close     Volume  \n",
      "0     25.709480    5417600  \n",
      "1     26.161797    3019200  \n",
      "2     25.612762    2697200  \n",
      "3     26.303537    1808000  \n",
      "4     26.212643    3438000  \n",
      "..          ...        ...  \n",
      "279  129.742279  320912000  \n",
      "280  131.674118  292279000  \n",
      "281  127.700905  198570500  \n",
      "282  132.399994  164182000  \n",
      "283  131.419998    7664900  \n",
      "\n",
      "[1136 rows x 8 columns]\n"
     ]
    }
   ],
   "source": [
    "print (tickers_and_data_df)   #View the dataframe we just created"
   ]
  },
  {
   "cell_type": "markdown",
   "id": "6db93541",
   "metadata": {},
   "source": [
    "#### To view a dataframe of a single ticker use the following"
   ]
  },
  {
   "cell_type": "code",
   "execution_count": 87,
   "id": "51f016bb",
   "metadata": {},
   "outputs": [
    {
     "name": "stdout",
     "output_type": "stream",
     "text": [
      "           Date Ticker        Open        High         Low       Close  \\\n",
      "0    1993-02-01    SPY   43.968750   45.125000   42.812500   44.406250   \n",
      "1    1993-03-01    SPY   44.562500   45.843750   44.218750   45.187500   \n",
      "2    1993-04-01    SPY   45.250000   45.250000   43.281250   44.031250   \n",
      "3    1993-05-01    SPY   44.093750   45.656250   43.843750   45.218750   \n",
      "4    1993-06-01    SPY   45.375000   45.812500   44.218750   45.062500   \n",
      "..          ...    ...         ...         ...         ...         ...   \n",
      "350  2022-04-01    SPY  453.309998  457.829987  411.209991  412.000000   \n",
      "351  2022-05-01    SPY  412.070007  429.660004  380.540009  412.929993   \n",
      "352  2022-06-01    SPY  415.170013  417.440002  362.170013  377.250000   \n",
      "353  2022-07-01    SPY  376.559998  413.029999  371.040009  411.989990   \n",
      "354  2022-08-01    SPY  409.149994  413.410004  408.399994  410.769989   \n",
      "\n",
      "      Adj Close      Volume  \n",
      "0     25.709480     5417600  \n",
      "1     26.161797     3019200  \n",
      "2     25.612762     2697200  \n",
      "3     26.303537     1808000  \n",
      "4     26.212643     3438000  \n",
      "..          ...         ...  \n",
      "350  410.227936  1856757400  \n",
      "351  411.153931  2418478100  \n",
      "352  375.627411  1958611900  \n",
      "353  411.989990  1437665900  \n",
      "354  410.769989    69817800  \n",
      "\n",
      "[355 rows x 8 columns]\n"
     ]
    }
   ],
   "source": [
    "spy_df = tickers_and_data_df.loc[tickers_and_data_df['Ticker'] == 'SPY']\n",
    "print(spy_df)"
   ]
  },
  {
   "cell_type": "code",
   "execution_count": null,
   "id": "456cf4fe",
   "metadata": {},
   "outputs": [],
   "source": []
  }
 ],
 "metadata": {
  "kernelspec": {
   "display_name": "Python 3 (ipykernel)",
   "language": "python",
   "name": "python3"
  },
  "language_info": {
   "codemirror_mode": {
    "name": "ipython",
    "version": 3
   },
   "file_extension": ".py",
   "mimetype": "text/x-python",
   "name": "python",
   "nbconvert_exporter": "python",
   "pygments_lexer": "ipython3",
   "version": "3.10.4"
  }
 },
 "nbformat": 4,
 "nbformat_minor": 5
}
